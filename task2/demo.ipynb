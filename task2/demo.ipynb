{
 "cells": [
  {
   "cell_type": "markdown",
   "metadata": {},
   "source": [
    "# Demo Task 2\n",
    "Here i created pipeline where user gives me path to image and his suggestion about what animal is on photo."
   ]
  },
  {
   "cell_type": "code",
   "execution_count": 10,
   "metadata": {},
   "outputs": [
    {
     "name": "stderr",
     "output_type": "stream",
     "text": [
      "WARNING:absl:Compiled the loaded model, but the compiled metrics have yet to be built. `model.compile_metrics` will be empty until you train or evaluate the model.\n"
     ]
    }
   ],
   "source": [
    "import tensorflow as tf\n",
    "from tensorflow.keras.preprocessing import image\n",
    "import numpy as np\n",
    "import spacy\n",
    "\n",
    "model = tf.keras.models.load_model('image_classifier_32x32.h5')\n",
    "\n",
    "animal_classes = [\"SEAL\", \"DOLPHIN\", \"WHALE\", \"SHARK\", \"WOLF\", \"TIGER\", \"BEAR\", \"ELEPHANT\", \"RACOON\", \"SPIDER\"]\n",
    "\n",
    "ner_model = spacy.load(\"animal_ner_model\")\n",
    "\n",
    "def process_image(image_path):\n",
    "    img = image.load_img(image_path, target_size=(32, 32))\n",
    "    img_array = image.img_to_array(img) / 255.0\n",
    "    img_array = np.expand_dims(img_array, axis=0)\n",
    "    return img_array\n",
    "\n",
    "def predict_image_class(img_array):\n",
    "    predictions = model.predict(img_array)\n",
    "    predicted_class = np.argmax(predictions)\n",
    "    return animal_classes[predicted_class]\n",
    "\n",
    "def get_user_input():\n",
    "    user_input = input(\"What animal do you think is in the image? \")\n",
    "    return user_input\n",
    "\n",
    "def extract_animal_from_text(user_input):\n",
    "    doc = ner_model(user_input)\n",
    "    animals_in_text = [ent.text for ent in doc.ents if ent.label_ in animal_classes]\n",
    "    return animals_in_text\n",
    "\n",
    "def main():\n",
    "    image_path = input(\"Please enter the path to the image: \")\n",
    "    img_array = process_image(image_path)\n",
    "    predicted_class = predict_image_class(img_array)\n",
    "    user_input = get_user_input()\n",
    "    animals_in_text = extract_animal_from_text(user_input)\n",
    "    print(\"Predicted class: \", predicted_class.lower())\n",
    "    print(\"Your suggestion: \", animals_in_text[0].lower() if animals_in_text else \"No animal from provided classes detected\")\n",
    "\n",
    "    if animals_in_text:\n",
    "        predicted_nlp_class = animals_in_text[0]\n",
    "        return predicted_class.lower() == predicted_nlp_class.lower()\n",
    "    else:\n",
    "        return False\n"
   ]
  },
  {
   "cell_type": "markdown",
   "metadata": {},
   "source": [
    "## Result\n",
    "You can run code below and see what happens(I even gives you some photo for test)."
   ]
  },
  {
   "cell_type": "code",
   "execution_count": 6,
   "metadata": {},
   "outputs": [
    {
     "name": "stdout",
     "output_type": "stream",
     "text": [
      "\u001b[1m1/1\u001b[0m \u001b[32m━━━━━━━━━━━━━━━━━━━━\u001b[0m\u001b[37m\u001b[0m \u001b[1m0s\u001b[0m 113ms/step\n",
      "Predicted class:  whale\n",
      "Your suggestion:  whale\n",
      "Do the image and the user's answer match? True\n"
     ]
    }
   ],
   "source": [
    "result = main()\n",
    "print(f\"Do the image and the user's answer match? {result}\")"
   ]
  },
  {
   "cell_type": "code",
   "execution_count": 7,
   "metadata": {},
   "outputs": [
    {
     "name": "stdout",
     "output_type": "stream",
     "text": [
      "\u001b[1m1/1\u001b[0m \u001b[32m━━━━━━━━━━━━━━━━━━━━\u001b[0m\u001b[37m\u001b[0m \u001b[1m0s\u001b[0m 26ms/step\n",
      "Predicted class:  whale\n",
      "Your suggestion:  spider\n",
      "Do the image and the user's answer match? False\n"
     ]
    }
   ],
   "source": [
    "result = main()\n",
    "print(f\"Do the image and the user's answer match? {result}\")"
   ]
  },
  {
   "cell_type": "code",
   "execution_count": 11,
   "metadata": {},
   "outputs": [
    {
     "name": "stdout",
     "output_type": "stream",
     "text": [
      "\u001b[1m1/1\u001b[0m \u001b[32m━━━━━━━━━━━━━━━━━━━━\u001b[0m\u001b[37m\u001b[0m \u001b[1m0s\u001b[0m 132ms/step\n",
      "Predicted class:  whale\n",
      "Your suggestion:  No animal detected\n",
      "Do the image and the user's answer match? False\n"
     ]
    }
   ],
   "source": [
    "result = main()\n",
    "print(f\"Do the image and the user's answer match? {result}\")"
   ]
  }
 ],
 "metadata": {
  "kernelspec": {
   "display_name": "myenv",
   "language": "python",
   "name": "python3"
  },
  "language_info": {
   "codemirror_mode": {
    "name": "ipython",
    "version": 3
   },
   "file_extension": ".py",
   "mimetype": "text/x-python",
   "name": "python",
   "nbconvert_exporter": "python",
   "pygments_lexer": "ipython3",
   "version": "3.12.3"
  }
 },
 "nbformat": 4,
 "nbformat_minor": 2
}
